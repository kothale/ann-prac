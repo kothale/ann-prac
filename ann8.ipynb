{
  "nbformat": 4,
  "nbformat_minor": 0,
  "metadata": {
    "colab": {
      "provenance": [],
      "authorship_tag": "ABX9TyOL0Iate1V9gEo87txUDolc",
      "include_colab_link": true
    },
    "kernelspec": {
      "name": "python3",
      "display_name": "Python 3"
    },
    "language_info": {
      "name": "python"
    }
  },
  "cells": [
    {
      "cell_type": "markdown",
      "metadata": {
        "id": "view-in-github",
        "colab_type": "text"
      },
      "source": [
        "<a href=\"https://colab.research.google.com/github/kothale/ann-prac/blob/main/ann8.ipynb\" target=\"_parent\"><img src=\"https://colab.research.google.com/assets/colab-badge.svg\" alt=\"Open In Colab\"/></a>"
      ]
    },
    {
      "cell_type": "code",
      "execution_count": 1,
      "metadata": {
        "id": "vabD_RXe652G"
      },
      "outputs": [],
      "source": [
        "import numpy as np\n"
      ]
    },
    {
      "cell_type": "code",
      "source": [
        "class ARTNetwork:\n",
        " def __init__(self, input_size, vigilance):\n",
        "  self.input_size = input_size\n",
        "  self.vigilance = vigilance\n",
        "  self.weights = np.zeros((input_size,1))\n",
        " def train(self, input_data,epochs):\n",
        "  normalized_input = input_data / np.linalg.norm(input_data)\n",
        "  for _ in range(epochs):\n",
        "    similarity = normalized_input @ self.weights\n",
        "    if similarity.any() >= self.vigilance:\n",
        "      return\n",
        "    self.weights = np.maximum(self.weights, normalized_input)\n",
        "    normalized_input = self.weights / np.linalg.norm(self.weights)\n",
        " def predict(self, input_data):\n",
        "  normalized_input = input_data / np.linalg.norm(input_data)\n",
        "  similarity = normalized_input @ self.weights\n",
        "  if similarity.any() >= self.vigilance:\n",
        "    output_pattern = np.zeros(len(similarity))\n",
        "    print(similarity)\n",
        "    winner = np.argmax(similarity)\n",
        "    output_pattern[winner] = 1\n",
        "  else:\n",
        "    output_pattern = np.zeros(len(similarity) + 1)\n",
        "    output_pattern[-1] = 1\n",
        "  return output_pattern\n"
      ],
      "metadata": {
        "id": "-_rxcJCs67Xw"
      },
      "execution_count": 3,
      "outputs": []
    },
    {
      "cell_type": "code",
      "source": [],
      "metadata": {
        "id": "UKEZYdFb7klH"
      },
      "execution_count": null,
      "outputs": []
    },
    {
      "cell_type": "code",
      "source": [
        "input_size = 4\n",
        "vigilance = 0.9\n",
        "art = ARTNetwork(input_size, vigilance)"
      ],
      "metadata": {
        "id": "6hBkrGYl69mk"
      },
      "execution_count": 4,
      "outputs": []
    },
    {
      "cell_type": "code",
      "source": [
        "data = np.array([[1, 1, 0, 0],\n",
        " [0, 1, 0, 1],\n",
        " [0, 0, 1, 1],\n",
        " [1, 0, 1, 0]])"
      ],
      "metadata": {
        "id": "SgG574CW7cnb"
      },
      "execution_count": 5,
      "outputs": []
    },
    {
      "cell_type": "code",
      "source": [
        "for sample in data:\n",
        " art.train(sample,1000)\n"
      ],
      "metadata": {
        "id": "10GuRTX57eH2"
      },
      "execution_count": 6,
      "outputs": []
    },
    {
      "cell_type": "code",
      "source": [
        "new_input = np.array([0, -1, 0, 0])\n",
        "new_output = art.predict(new_input)\n",
        "print(new_output)"
      ],
      "metadata": {
        "colab": {
          "base_uri": "https://localhost:8080/"
        },
        "id": "u064rL077fiW",
        "outputId": "bb5804a9-58cf-46a6-eeb4-6ec3124009d9"
      },
      "execution_count": 7,
      "outputs": [
        {
          "output_type": "stream",
          "name": "stdout",
          "text": [
            "[-0.70710678 -0.70710678  0.          0.        ]\n",
            "[0. 0. 1. 0.]\n"
          ]
        }
      ]
    },
    {
      "cell_type": "code",
      "source": [],
      "metadata": {
        "id": "agkwgs6W7isF"
      },
      "execution_count": null,
      "outputs": []
    }
  ]
}