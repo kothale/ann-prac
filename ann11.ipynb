{
  "nbformat": 4,
  "nbformat_minor": 0,
  "metadata": {
    "colab": {
      "provenance": [],
      "authorship_tag": "ABX9TyM5njeb+FkgBVeg/1BQxmiU",
      "include_colab_link": true
    },
    "kernelspec": {
      "name": "python3",
      "display_name": "Python 3"
    },
    "language_info": {
      "name": "python"
    }
  },
  "cells": [
    {
      "cell_type": "markdown",
      "metadata": {
        "id": "view-in-github",
        "colab_type": "text"
      },
      "source": [
        "<a href=\"https://colab.research.google.com/github/kothale/ann-prac/blob/main/ann11.ipynb\" target=\"_parent\"><img src=\"https://colab.research.google.com/assets/colab-badge.svg\" alt=\"Open In Colab\"/></a>"
      ]
    },
    {
      "cell_type": "code",
      "execution_count": 1,
      "metadata": {
        "id": "Ca0S1xDq8ViV"
      },
      "outputs": [],
      "source": [
        "import tensorflow as tf\n",
        "import numpy as np\n",
        "from keras.models import Sequential\n",
        "from keras.layers import Dense, Flatten\n",
        "from sklearn.model_selection import train_test_split\n",
        "from sklearn.preprocessing import StandardScaler\n",
        "from sklearn.datasets import load_breast_cancer"
      ]
    },
    {
      "cell_type": "code",
      "source": [
        "df=load_breast_cancer()\n"
      ],
      "metadata": {
        "id": "b43MFlYW8YXD"
      },
      "execution_count": 2,
      "outputs": []
    },
    {
      "cell_type": "code",
      "source": [
        "X_train,X_test,y_train,y_test=train_test_split(df.data,df.target,test_size=0.20,random_state=42)"
      ],
      "metadata": {
        "id": "u1C11vuk8jQ9"
      },
      "execution_count": 3,
      "outputs": []
    },
    {
      "cell_type": "code",
      "source": [
        "sc=StandardScaler()\n",
        "X_train=sc.fit_transform(X_train)\n",
        "X_test=sc.transform(X_test)\n"
      ],
      "metadata": {
        "id": "vLNvXtAy8lw_"
      },
      "execution_count": 4,
      "outputs": []
    },
    {
      "cell_type": "code",
      "source": [
        "model=Sequential([\n",
        " Flatten(input_shape=(X_train.shape[1],)),\n",
        " Dense(1,activation='sigmoid')\n",
        " ])"
      ],
      "metadata": {
        "id": "XtJ_b7Cg8okj"
      },
      "execution_count": 5,
      "outputs": []
    },
    {
      "cell_type": "code",
      "source": [
        "model.compile(optimizer='adam',loss='binary_crossentropy',metrics=['accuracy'])\n",
        "model.fit(X_train,y_train,epochs=5)\n"
      ],
      "metadata": {
        "colab": {
          "base_uri": "https://localhost:8080/"
        },
        "id": "oOJ1n1ry8qsi",
        "outputId": "8773a10c-c6aa-4efd-a2e4-2cb28f8f65b6"
      },
      "execution_count": 6,
      "outputs": [
        {
          "output_type": "stream",
          "name": "stdout",
          "text": [
            "Epoch 1/5\n",
            "15/15 [==============================] - 1s 8ms/step - loss: 0.9412 - accuracy: 0.3934\n",
            "Epoch 2/5\n",
            "15/15 [==============================] - 0s 7ms/step - loss: 0.8269 - accuracy: 0.4615\n",
            "Epoch 3/5\n",
            "15/15 [==============================] - 0s 6ms/step - loss: 0.7296 - accuracy: 0.5407\n",
            "Epoch 4/5\n",
            "15/15 [==============================] - 0s 6ms/step - loss: 0.6486 - accuracy: 0.6330\n",
            "Epoch 5/5\n",
            "15/15 [==============================] - 0s 6ms/step - loss: 0.5828 - accuracy: 0.7055\n"
          ]
        },
        {
          "output_type": "execute_result",
          "data": {
            "text/plain": [
              "<keras.src.callbacks.History at 0x782818823220>"
            ]
          },
          "metadata": {},
          "execution_count": 6
        }
      ]
    },
    {
      "cell_type": "code",
      "source": [
        "model.fit(X_train,y_train,epochs=5)"
      ],
      "metadata": {
        "colab": {
          "base_uri": "https://localhost:8080/"
        },
        "id": "Y3BW1_V98tua",
        "outputId": "a3cda999-d446-4800-9987-fb1abce789b3"
      },
      "execution_count": 7,
      "outputs": [
        {
          "output_type": "stream",
          "name": "stdout",
          "text": [
            "Epoch 1/5\n",
            "15/15 [==============================] - 0s 4ms/step - loss: 0.5293 - accuracy: 0.7648\n",
            "Epoch 2/5\n",
            "15/15 [==============================] - 0s 4ms/step - loss: 0.4863 - accuracy: 0.8066\n",
            "Epoch 3/5\n",
            "15/15 [==============================] - 0s 4ms/step - loss: 0.4495 - accuracy: 0.8352\n",
            "Epoch 4/5\n",
            "15/15 [==============================] - 0s 4ms/step - loss: 0.4191 - accuracy: 0.8527\n",
            "Epoch 5/5\n",
            "15/15 [==============================] - 0s 9ms/step - loss: 0.3935 - accuracy: 0.8769\n"
          ]
        },
        {
          "output_type": "execute_result",
          "data": {
            "text/plain": [
              "<keras.src.callbacks.History at 0x7828a94260e0>"
            ]
          },
          "metadata": {},
          "execution_count": 7
        }
      ]
    },
    {
      "cell_type": "code",
      "source": [
        "test_loss,test_accuracy = model.evaluate(X_test,y_test)"
      ],
      "metadata": {
        "colab": {
          "base_uri": "https://localhost:8080/"
        },
        "id": "qQjCpWhZ8w0R",
        "outputId": "05b7d20a-0359-4a01-d559-9043d75cd2d4"
      },
      "execution_count": 8,
      "outputs": [
        {
          "output_type": "stream",
          "name": "stdout",
          "text": [
            "4/4 [==============================] - 0s 5ms/step - loss: 0.3492 - accuracy: 0.8772\n"
          ]
        }
      ]
    },
    {
      "cell_type": "code",
      "source": [
        "print(\"Test Loss: \",test_loss)\n",
        "print(\"accuracy is\",test_accuracy)"
      ],
      "metadata": {
        "colab": {
          "base_uri": "https://localhost:8080/"
        },
        "id": "dRtzXLy38zJn",
        "outputId": "cc91294b-5c71-4953-94db-b56182a87c8f"
      },
      "execution_count": 9,
      "outputs": [
        {
          "output_type": "stream",
          "name": "stdout",
          "text": [
            "Test Loss:  0.34920915961265564\n",
            "accuracy is 0.8771929740905762\n"
          ]
        }
      ]
    },
    {
      "cell_type": "code",
      "source": [],
      "metadata": {
        "id": "fSDp4MU581oN"
      },
      "execution_count": null,
      "outputs": []
    }
  ]
}