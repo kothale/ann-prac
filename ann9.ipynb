{
  "nbformat": 4,
  "nbformat_minor": 0,
  "metadata": {
    "colab": {
      "provenance": [],
      "authorship_tag": "ABX9TyNQsh4I9eNZLX/Lm99tTNUv",
      "include_colab_link": true
    },
    "kernelspec": {
      "name": "python3",
      "display_name": "Python 3"
    },
    "language_info": {
      "name": "python"
    }
  },
  "cells": [
    {
      "cell_type": "markdown",
      "metadata": {
        "id": "view-in-github",
        "colab_type": "text"
      },
      "source": [
        "<a href=\"https://colab.research.google.com/github/kothale/ann-prac/blob/main/ann9.ipynb\" target=\"_parent\"><img src=\"https://colab.research.google.com/assets/colab-badge.svg\" alt=\"Open In Colab\"/></a>"
      ]
    },
    {
      "cell_type": "code",
      "execution_count": 1,
      "metadata": {
        "id": "SjgGkPPd7uAS"
      },
      "outputs": [],
      "source": [
        "import numpy as np"
      ]
    },
    {
      "cell_type": "code",
      "source": [
        "class HopfieldNetwork:\n",
        " def __init__(self, n_neurons):\n",
        "  self.weights = np.zeros((n_neurons, n_neurons))\n",
        " def train(self, patterns):\n",
        "  for pattern in patterns:\n",
        "    self.weights += np.outer(pattern, pattern)\n",
        "    np.fill_diagonal(self.weights, 0)\n",
        " def predict(self, pattern):\n",
        "  energy = -0.5 * ((pattern @ self.weights) @ pattern)\n",
        "  return np.sign((pattern @ self.weights) + energy)"
      ],
      "metadata": {
        "id": "23-bEW2e72J1"
      },
      "execution_count": 6,
      "outputs": []
    },
    {
      "cell_type": "code",
      "source": [
        "patterns = np.array([\n",
        " [1, 1, -1, -1],\n",
        " [-1, -1, 1, 1],\n",
        " [1, -1, 1, -1],\n",
        " [-1, 1, -1, 1]\n",
        " ])\n",
        "n_neurons = 4"
      ],
      "metadata": {
        "id": "R_hqKOKZ72t6"
      },
      "execution_count": 3,
      "outputs": []
    },
    {
      "cell_type": "code",
      "source": [
        "network = HopfieldNetwork(n_neurons)\n",
        "network.train(patterns)"
      ],
      "metadata": {
        "id": "O3fsxCeF76Lj"
      },
      "execution_count": 7,
      "outputs": []
    },
    {
      "cell_type": "code",
      "source": [
        "for pattern in patterns:\n",
        " prediction = network.predict(pattern)\n",
        " print('Input pattern:', pattern)\n",
        " print('Predicted pattern:', prediction)"
      ],
      "metadata": {
        "colab": {
          "base_uri": "https://localhost:8080/"
        },
        "id": "i_aLwA1378Jr",
        "outputId": "e41406b5-c560-4d57-e05c-6ed46f6eb4d1"
      },
      "execution_count": 8,
      "outputs": [
        {
          "output_type": "stream",
          "name": "stdout",
          "text": [
            "Input pattern: [ 1  1 -1 -1]\n",
            "Predicted pattern: [-1. -1. -1. -1.]\n",
            "Input pattern: [-1 -1  1  1]\n",
            "Predicted pattern: [-1. -1. -1. -1.]\n",
            "Input pattern: [ 1 -1  1 -1]\n",
            "Predicted pattern: [-1. -1. -1. -1.]\n",
            "Input pattern: [-1  1 -1  1]\n",
            "Predicted pattern: [-1. -1. -1. -1.]\n"
          ]
        }
      ]
    },
    {
      "cell_type": "code",
      "source": [],
      "metadata": {
        "id": "lrgK0qyb7-5l"
      },
      "execution_count": null,
      "outputs": []
    }
  ]
}