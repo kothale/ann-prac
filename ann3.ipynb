{
  "nbformat": 4,
  "nbformat_minor": 0,
  "metadata": {
    "colab": {
      "provenance": [],
      "authorship_tag": "ABX9TyPMfGww7w16CfLKnQAyEA6G",
      "include_colab_link": true
    },
    "kernelspec": {
      "name": "python3",
      "display_name": "Python 3"
    },
    "language_info": {
      "name": "python"
    }
  },
  "cells": [
    {
      "cell_type": "markdown",
      "metadata": {
        "id": "view-in-github",
        "colab_type": "text"
      },
      "source": [
        "<a href=\"https://colab.research.google.com/github/kothale/ann-prac/blob/main/ann3.ipynb\" target=\"_parent\"><img src=\"https://colab.research.google.com/assets/colab-badge.svg\" alt=\"Open In Colab\"/></a>"
      ]
    },
    {
      "cell_type": "code",
      "execution_count": 2,
      "metadata": {
        "colab": {
          "base_uri": "https://localhost:8080/"
        },
        "id": "jxqlwSSw3PGY",
        "outputId": "8cf2a47c-4eb5-4489-add2-9326f3fdf53e"
      },
      "outputs": [
        {
          "output_type": "stream",
          "name": "stdout",
          "text": [
            "Enter a Number (0-9): 2\n",
            "2  is  even\n"
          ]
        }
      ],
      "source": [
        "import numpy as np\n",
        "j = int(input(\"Enter a Number (0-9): \"))\n",
        "step_function = lambda x: 1 if x >= 0 else 0\n",
        "training_data = [\n",
        " {'input': [1, 1, 0, 0, 0, 0], 'label': 1},\n",
        " {'input': [1, 1, 0, 0, 0, 1], 'label': 0},\n",
        " {'input': [1, 1, 0, 0, 1, 0], 'label': 1},\n",
        " {'input': [1, 1, 0, 1, 1, 1], 'label': 0},\n",
        " {'input': [1, 1, 0, 1, 0, 0], 'label': 1},\n",
        " {'input': [1, 1, 0, 1, 0, 1], 'label': 0},\n",
        " {'input': [1, 1, 0, 1, 1, 0], 'label': 1},\n",
        " {'input': [1, 1, 0, 1, 1, 1], 'label': 0},\n",
        " {'input': [1, 1, 1, 0, 0, 0], 'label': 1},\n",
        " {'input': [1, 1, 1, 0, 0, 1], 'label': 0},\n",
        "]\n",
        "weights = np.array([0, 0, 0, 0, 0, 1])\n",
        "for data in training_data:\n",
        "  input = np.array(data['input'])\n",
        "  label = data['label']\n",
        "  output = step_function(np.dot(input, weights))\n",
        "  error = label - output\n",
        "  weights += input * error\n",
        "input = np.array([int(x) for x in list('{0:06b}'.format(j))])\n",
        "output = \"odd\" if step_function(np.dot(input, weights)) == 0 else \"even\"\n",
        "print(j, \" is \", output)"
      ]
    },
    {
      "cell_type": "code",
      "source": [],
      "metadata": {
        "id": "kuUP36ep3UtI"
      },
      "execution_count": null,
      "outputs": []
    }
  ]
}