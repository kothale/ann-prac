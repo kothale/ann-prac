{
  "nbformat": 4,
  "nbformat_minor": 0,
  "metadata": {
    "colab": {
      "provenance": [],
      "authorship_tag": "ABX9TyPxSrf2O1se23COyK+5jK5z",
      "include_colab_link": true
    },
    "kernelspec": {
      "name": "python3",
      "display_name": "Python 3"
    },
    "language_info": {
      "name": "python"
    }
  },
  "cells": [
    {
      "cell_type": "markdown",
      "metadata": {
        "id": "view-in-github",
        "colab_type": "text"
      },
      "source": [
        "<a href=\"https://colab.research.google.com/github/kothale/ann-prac/blob/main/ann5.ipynb\" target=\"_parent\"><img src=\"https://colab.research.google.com/assets/colab-badge.svg\" alt=\"Open In Colab\"/></a>"
      ]
    },
    {
      "cell_type": "code",
      "execution_count": 4,
      "metadata": {
        "id": "FK_CSae-4cmN"
      },
      "outputs": [],
      "source": [
        "import numpy as np\n"
      ]
    },
    {
      "cell_type": "code",
      "source": [
        "x1 = np.array([1, 1, 1, -1])\n",
        "y1 = np.array([1, -1])\n",
        "x2 = np.array([-1, -1, 1, 1])\n",
        "y2 = np.array([-1, 1])"
      ],
      "metadata": {
        "id": "xK9M9pPz4f66"
      },
      "execution_count": 5,
      "outputs": []
    },
    {
      "cell_type": "code",
      "source": [
        "W = np.outer(y1, x1) + np.outer(y2, x2)"
      ],
      "metadata": {
        "id": "f-bTN-5N4oJz"
      },
      "execution_count": 6,
      "outputs": []
    },
    {
      "cell_type": "code",
      "source": [
        "def bam(x):\n",
        " y = W @ x\n",
        " return np.where(y>=0, 1, -1)\n"
      ],
      "metadata": {
        "id": "u3nRiQXo4pzs"
      },
      "execution_count": 9,
      "outputs": []
    },
    {
      "cell_type": "code",
      "source": [
        "x_test = np.array([1, -1, -1, -1])\n",
        "y_test = bam(x_test)\n"
      ],
      "metadata": {
        "id": "NDfhuYuL4rsa"
      },
      "execution_count": 10,
      "outputs": []
    },
    {
      "cell_type": "code",
      "source": [
        "print(\"Input x: \", x_test)\n",
        "print(\"Output y: \", y_test)"
      ],
      "metadata": {
        "colab": {
          "base_uri": "https://localhost:8080/"
        },
        "id": "hKzkCsmY5Udk",
        "outputId": "1b1bfa6b-3080-41a1-e6e5-66f91534958d"
      },
      "execution_count": 11,
      "outputs": [
        {
          "output_type": "stream",
          "name": "stdout",
          "text": [
            "Input x:  [ 1 -1 -1 -1]\n",
            "Output y:  [ 1 -1]\n"
          ]
        }
      ]
    },
    {
      "cell_type": "code",
      "source": [],
      "metadata": {
        "id": "OLvmr6Pw5YSp"
      },
      "execution_count": null,
      "outputs": []
    }
  ]
}