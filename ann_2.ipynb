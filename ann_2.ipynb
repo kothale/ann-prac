{
  "nbformat": 4,
  "nbformat_minor": 0,
  "metadata": {
    "colab": {
      "provenance": [],
      "authorship_tag": "ABX9TyPoViyMN7mNDKTyPFRXnqzE",
      "include_colab_link": true
    },
    "kernelspec": {
      "name": "python3",
      "display_name": "Python 3"
    },
    "language_info": {
      "name": "python"
    }
  },
  "cells": [
    {
      "cell_type": "markdown",
      "metadata": {
        "id": "view-in-github",
        "colab_type": "text"
      },
      "source": [
        "<a href=\"https://colab.research.google.com/github/kothale/ann-prac/blob/main/ann_2.ipynb\" target=\"_parent\"><img src=\"https://colab.research.google.com/assets/colab-badge.svg\" alt=\"Open In Colab\"/></a>"
      ]
    },
    {
      "cell_type": "code",
      "execution_count": null,
      "metadata": {
        "colab": {
          "base_uri": "https://localhost:8080/"
        },
        "id": "U-GFH-bkvqEY",
        "outputId": "f1de7d86-f943-401f-964b-831150251b55"
      },
      "outputs": [
        {
          "output_type": "stream",
          "name": "stdout",
          "text": [
            "input table:\n",
            "[[0 0]\n",
            " [0 1]\n",
            " [1 0]\n",
            " [1 1]]\n",
            "dot products:\n",
            "[0 1 1 2]\n",
            "Activation: 0\n",
            "Activation: 1\n",
            "Activation: 1\n",
            "Activation: 1\n"
          ]
        }
      ],
      "source": [
        " import numpy as np\n",
        " def threshold(dot, T):\n",
        "  if dot >= T:\n",
        "    return 1\n",
        "  else:\n",
        "    return 0\n",
        " input_table = np.array([\n",
        "   [0,0], # both no\n",
        "  [0,1], # one no, one yes\n",
        "  [1,0], # one yes, one no\n",
        "  [1,1] # bot yes\n",
        "])\n",
        "weights = np.array([1,1])\n",
        "T = 1\n",
        "dot_products_sum = input_table @ weights\n",
        "print(f'input table:\\n{input_table}')\n",
        "print(f'dot products:\\n{dot_products_sum}')\n",
        "for i in range(0,4):\n",
        "  activation = threshold(dot_products_sum[i], T)\n",
        "  print(f'Activation: {activation}')"
      ]
    },
    {
      "cell_type": "code",
      "source": [],
      "metadata": {
        "id": "YdOqRtl5wKXS"
      },
      "execution_count": null,
      "outputs": []
    }
  ]
}