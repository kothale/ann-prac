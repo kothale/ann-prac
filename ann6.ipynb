{
  "nbformat": 4,
  "nbformat_minor": 0,
  "metadata": {
    "colab": {
      "provenance": [],
      "authorship_tag": "ABX9TyO7MBRWsNzWM+7WsIoHtNYQ",
      "include_colab_link": true
    },
    "kernelspec": {
      "name": "python3",
      "display_name": "Python 3"
    },
    "language_info": {
      "name": "python"
    }
  },
  "cells": [
    {
      "cell_type": "markdown",
      "metadata": {
        "id": "view-in-github",
        "colab_type": "text"
      },
      "source": [
        "<a href=\"https://colab.research.google.com/github/kothale/ann-prac/blob/main/ann6.ipynb\" target=\"_parent\"><img src=\"https://colab.research.google.com/assets/colab-badge.svg\" alt=\"Open In Colab\"/></a>"
      ]
    },
    {
      "cell_type": "code",
      "execution_count": 1,
      "metadata": {
        "id": "_f5te_Uq5kcd"
      },
      "outputs": [],
      "source": [
        "import numpy as np"
      ]
    },
    {
      "cell_type": "code",
      "source": [
        "class NeuralNetwork:\n",
        " def __init__(self, input_size, hidden_size, output_size):\n",
        "  self.W1 = np.random.randn(input_size, hidden_size)\n",
        "  self.b1 = np.zeros(hidden_size)\n",
        "  self.W2 = np.random.randn(hidden_size, output_size)\n",
        "  self.b2 = np.zeros(output_size)\n",
        " def sigmoid(self, x):\n",
        "  return 1 / (1 + np.exp(-x))\n",
        " def sigmoid_derivative(self, x):\n",
        "  return x * (1 - x)\n",
        " def forward(self, X):\n",
        "  self.z1 = X @ self.W1 + self.b1\n",
        "  self.a1 = self.sigmoid(self.z1)\n",
        "  self.z2 = self.a1 @ self.W2 + self.b2\n",
        "  self.a2 = self.sigmoid(self.z2)\n",
        "  return self.a2\n",
        " def backward(self, X, y, output):\n",
        "  self.output_error = y - output\n",
        "  self.output_delta = self.output_error * self.sigmoid_derivative(output)\n",
        "  self.hidden_error = self.output_delta @ self.W2.T\n",
        "  self.hidden_delta = self.hidden_error * self.sigmoid_derivative(self.a1)\n",
        "  self.W1 += X.T @ self.hidden_delta\n",
        "  self.b1 += np.sum(self.hidden_delta, axis=0)\n",
        "  self.W2 += self.a1.T @ self.output_delta\n",
        "  self.b2 += np.sum(self.output_delta, axis=0)\n",
        "\n",
        " def train(self, X, y, epochs):\n",
        "  for i in range(epochs):\n",
        "    output = self.forward(X)\n",
        "    self.backward(X, y, output)\n",
        " def predict(self, X):\n",
        " # Make predictions for a given set of inputs\n",
        "   return self.forward(X)"
      ],
      "metadata": {
        "id": "l1MYZT0V5nk7"
      },
      "execution_count": 3,
      "outputs": []
    },
    {
      "cell_type": "code",
      "source": [
        "x = np.array([[0, 0], [0, 1], [1, 0], [1, 1]])\n",
        "y = np.array([[0], [1], [1], [0]])"
      ],
      "metadata": {
        "id": "w_wpDf315ruW"
      },
      "execution_count": 4,
      "outputs": []
    },
    {
      "cell_type": "code",
      "source": [
        "nn = NeuralNetwork(2, 4, 1)\n"
      ],
      "metadata": {
        "id": "D61N1M5r6D88"
      },
      "execution_count": 5,
      "outputs": []
    },
    {
      "cell_type": "code",
      "source": [
        "nn.train(x, y, epochs=10000)"
      ],
      "metadata": {
        "id": "PJKQkdL06Fpv"
      },
      "execution_count": 7,
      "outputs": []
    },
    {
      "cell_type": "code",
      "source": [
        "predictions = nn.predict(x)"
      ],
      "metadata": {
        "id": "Wz5nylMn6JG3"
      },
      "execution_count": 9,
      "outputs": []
    },
    {
      "cell_type": "code",
      "source": [
        "print(predictions)"
      ],
      "metadata": {
        "colab": {
          "base_uri": "https://localhost:8080/"
        },
        "id": "I7MlU8j_6NZE",
        "outputId": "548e95fb-0e4d-482b-9992-f85c6a64a12b"
      },
      "execution_count": 10,
      "outputs": [
        {
          "output_type": "stream",
          "name": "stdout",
          "text": [
            "[[0.01019707]\n",
            " [0.99126362]\n",
            " [0.98940453]\n",
            " [0.00898554]]\n"
          ]
        }
      ]
    },
    {
      "cell_type": "code",
      "source": [],
      "metadata": {
        "id": "hklGb17s6QZa"
      },
      "execution_count": null,
      "outputs": []
    }
  ]
}